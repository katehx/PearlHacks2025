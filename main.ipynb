{
 "cells": [
  {
   "cell_type": "code",
   "execution_count": 50,
   "id": "206b339f-9aad-4921-a31a-8fcdaee21217",
   "metadata": {},
   "outputs": [],
   "source": [
    "import pandas as pd\n",
    "import PySimpleGUI as sg\n",
    "import random\n",
    "from openai import OpenAI\n",
    "import os\n",
    "import getpass\n",
    "import textwrap\n",
    "#from dotenv import load_dotenv\n",
    "\n",
    "df = pd.DataFrame(pd.read_csv('questions.csv'))"
   ]
  },
  {
   "cell_type": "code",
   "execution_count": 51,
   "id": "6437320f-97d9-4af0-9134-1194b330818e",
   "metadata": {},
   "outputs": [],
   "source": [
    "def get_question():\n",
    "    q = random.randint(0, 1379)\n",
    "    prompt = df.iloc[q][\"prompt\"]\n",
    "    A = df.iloc[q][\"A\"]\n",
    "    B = df.iloc[q][\"B\"]\n",
    "    C = df.iloc[q][\"C\"]\n",
    "    D = df.iloc[q][\"D\"]\n",
    "    E = df.iloc[q][\"E\"]\n",
    "    ra = df.iloc[q][\"answer\"]\n",
    "    return prompt, A, B, C, D, E, ra"
   ]
  },
  {
   "cell_type": "code",
   "execution_count": 60,
   "id": "d58d5d4a-88c6-4018-94ce-dfba69487f01",
   "metadata": {},
   "outputs": [
    {
     "name": "stdin",
     "output_type": "stream",
     "text": [
      "API Key: ····································································································································································\n"
     ]
    },
    {
     "name": "stdout",
     "output_type": "stream",
     "text": [
      "Which of the following was a result of George H. W. Bush's reversal of his pledge not to raise taxes?\n",
      "A. The country went into severe recession.\n",
      "B. He said the country had finally \"kicked the Vietnam syndrome.\"\n",
      "C. Inflation became the main problem of the 1990s.\n",
      "D. He lost the support of the core of Republican loyalists.\n",
      "E. He was able to finance the invasion of Panama without endangering the economy.\n",
      "D\n"
     ]
    }
   ],
   "source": [
    "def main():\n",
    "    key = input(\"API Key\")\n",
    "    client = OpenAI(api_key = key)\n",
    "    while 1==1:\n",
    "        q = get_question()\n",
    "        print(q[0])\n",
    "        print(\"A. \" + q[1])\n",
    "        print(\"B. \" + q[2])\n",
    "        print(\"C. \" + q[3])\n",
    "        print(\"D. \" + q[4])\n",
    "        print(\"E. \" + q[5])\n",
    "        user_in = input(\"What is the answer?\")\n",
    "        if (q[6] == \"A\") and (user_in == \"A\"):\n",
    "            print(\"Correct\")\n",
    "        elif (q[6] == \"B\") and (user_in == \"B\"):\n",
    "            print(\"Correct\")\n",
    "        elif (q[6] == \"C\") and (user_in == \"C\"):\n",
    "            print(\"Correct\")\n",
    "        elif (q[6] == \"D\") and (user_in == \"D\"):\n",
    "            print(\"Correct\")\n",
    "        elif (q[6] == \"E\") and (user_in == \"E\"):\n",
    "            print(\"Correct\")\n",
    "        else:\n",
    "            print(\"Incorrect\")\n",
    "        ask = input(\"Do you want this answer explained?\")\n",
    "        if ask == \"Yes\":\n",
    "            completion = client.chat.completions.create(\n",
    "            model=\"gpt-4o-mini\",\n",
    "            messages=[\n",
    "                {\"role\": \"system\", \"content\": \"You are a tutor who is very good at explaining history questions, you will be given a question, the answer choices, and the correct answer. Explain why this is the right answer.\"},\n",
    "                {\"role\": \"user\",\n",
    "                \"content\": \"Question: \" + q[0]+ \" A. \"+q[1]+\" B. \"+q[2]+\" C. \"+q[3]+\" D. \"+q[4]+\" E. \"+q[5]+ \" Correct Answer \"+q[6]}])\n",
    "\n",
    "            print(completion.choices[0].message.content)\n",
    "main()"
   ]
  },
  {
   "cell_type": "code",
   "execution_count": null,
   "id": "3322f080-8646-464a-9535-450c46325f5f",
   "metadata": {},
   "outputs": [],
   "source": []
  },
  {
   "cell_type": "code",
   "execution_count": null,
   "id": "ebea75d7-f81d-437b-939b-48341ae76d8b",
   "metadata": {},
   "outputs": [],
   "source": []
  },
  {
   "cell_type": "code",
   "execution_count": 1,
   "id": "c370bddf-bcc0-4519-8bb5-840b77e9c4ad",
   "metadata": {},
   "outputs": [
    {
     "ename": "ModuleNotFoundError",
     "evalue": "No module named 'streamlit'",
     "output_type": "error",
     "traceback": [
      "\u001b[0;31m---------------------------------------------------------------------------\u001b[0m",
      "\u001b[0;31mModuleNotFoundError\u001b[0m                       Traceback (most recent call last)",
      "\u001b[0;32m/var/folders/rc/gp38btvd4t10gf8g1hgvk0s40000gn/T/ipykernel_40230/3514185842.py\u001b[0m in \u001b[0;36m<module>\u001b[0;34m\u001b[0m\n\u001b[0;32m----> 1\u001b[0;31m \u001b[0;32mimport\u001b[0m \u001b[0mstreamlit\u001b[0m \u001b[0;32mas\u001b[0m \u001b[0mst\u001b[0m\u001b[0;34m\u001b[0m\u001b[0;34m\u001b[0m\u001b[0m\n\u001b[0m\u001b[1;32m      2\u001b[0m \u001b[0;32mimport\u001b[0m \u001b[0mnumpy\u001b[0m \u001b[0;32mas\u001b[0m \u001b[0mnp\u001b[0m\u001b[0;34m\u001b[0m\u001b[0;34m\u001b[0m\u001b[0m\n\u001b[1;32m      3\u001b[0m \u001b[0;34m\u001b[0m\u001b[0m\n\u001b[1;32m      4\u001b[0m \u001b[0mmessage\u001b[0m \u001b[0;34m=\u001b[0m \u001b[0mst\u001b[0m\u001b[0;34m.\u001b[0m\u001b[0mchat_message\u001b[0m\u001b[0;34m(\u001b[0m\u001b[0;34m\"assistant\"\u001b[0m\u001b[0;34m)\u001b[0m\u001b[0;34m\u001b[0m\u001b[0;34m\u001b[0m\u001b[0m\n\u001b[1;32m      5\u001b[0m \u001b[0mmessage\u001b[0m\u001b[0;34m.\u001b[0m\u001b[0mwrite\u001b[0m\u001b[0;34m(\u001b[0m\u001b[0;34m\"Hello human\"\u001b[0m\u001b[0;34m)\u001b[0m\u001b[0;34m\u001b[0m\u001b[0;34m\u001b[0m\u001b[0m\n",
      "\u001b[0;31mModuleNotFoundError\u001b[0m: No module named 'streamlit'"
     ]
    }
   ],
   "source": [
    "import streamlit as st\n",
    "import numpy as np\n",
    "\n",
    "message = st.chat_message(\"assistant\")\n",
    "message.write(\"Hello human\")\n",
    "message.bar_chart(np.random.randn(30, 3))"
   ]
  },
  {
   "cell_type": "code",
   "execution_count": null,
   "id": "6d47320d-2398-4efb-a130-bfab190a3028",
   "metadata": {},
   "outputs": [],
   "source": []
  }
 ],
 "metadata": {
  "kernelspec": {
   "display_name": "Python 3 (ipykernel)",
   "language": "python",
   "name": "python3"
  },
  "language_info": {
   "codemirror_mode": {
    "name": "ipython",
    "version": 3
   },
   "file_extension": ".py",
   "mimetype": "text/x-python",
   "name": "python",
   "nbconvert_exporter": "python",
   "pygments_lexer": "ipython3",
   "version": "3.9.7"
  }
 },
 "nbformat": 4,
 "nbformat_minor": 5
}
