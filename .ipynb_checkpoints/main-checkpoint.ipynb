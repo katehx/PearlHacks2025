{
 "cells": [
  {
   "cell_type": "code",
   "execution_count": 50,
   "id": "206b339f-9aad-4921-a31a-8fcdaee21217",
   "metadata": {},
   "outputs": [],
   "source": [
    "import pandas as pd\n",
    "import PySimpleGUI as sg\n",
    "import random\n",
    "from openai import OpenAI\n",
    "import os\n",
    "import getpass\n",
    "import textwrap\n",
    "#from dotenv import load_dotenv\n",
    "\n",
    "df = pd.DataFrame(pd.read_csv('questions.csv'))"
   ]
  },
  {
   "cell_type": "code",
   "execution_count": 51,
   "id": "6437320f-97d9-4af0-9134-1194b330818e",
   "metadata": {},
   "outputs": [],
   "source": [
    "def get_question():\n",
    "    q = random.randint(0, 1379)\n",
    "    prompt = df.iloc[q][\"prompt\"]\n",
    "    A = df.iloc[q][\"A\"]\n",
    "    B = df.iloc[q][\"B\"]\n",
    "    C = df.iloc[q][\"C\"]\n",
    "    D = df.iloc[q][\"D\"]\n",
    "    E = df.iloc[q][\"E\"]\n",
    "    ra = df.iloc[q][\"answer\"]\n",
    "    return prompt, A, B, C, D, E, ra"
   ]
  },
  {
   "cell_type": "code",
   "execution_count": 60,
   "id": "d58d5d4a-88c6-4018-94ce-dfba69487f01",
   "metadata": {},
   "outputs": [
    {
     "name": "stdin",
     "output_type": "stream",
     "text": [
      "API Key: ····································································································································································\n"
     ]
    },
    {
     "name": "stdout",
     "output_type": "stream",
     "text": [
      "Which of the following was a result of George H. W. Bush's reversal of his pledge not to raise taxes?\n",
      "A. The country went into severe recession.\n",
      "B. He said the country had finally \"kicked the Vietnam syndrome.\"\n",
      "C. Inflation became the main problem of the 1990s.\n",
      "D. He lost the support of the core of Republican loyalists.\n",
      "E. He was able to finance the invasion of Panama without endangering the economy.\n",
      "D\n"
     ]
    }
   ],
   "source": [
    "def main():\n",
    "    key = input(\"API Key\")\n",
    "    client = OpenAI(api_key = key)\n",
    "    while 1==1:\n",
    "        q = get_question()\n",
    "        print(q[0])\n",
    "        print(\"A. \" + q[1])\n",
    "        print(\"B. \" + q[2])\n",
    "        print(\"C. \" + q[3])\n",
    "        print(\"D. \" + q[4])\n",
    "        print(\"E. \" + q[5])\n",
    "        user_in = input(\"What is the answer?\")\n",
    "        if (q[6] == \"A\") and (user_in == \"A\"):\n",
    "            print(\"Correct\")\n",
    "        elif (q[6] == \"B\") and (user_in == \"B\"):\n",
    "            print(\"Correct\")\n",
    "        elif (q[6] == \"C\") and (user_in == \"C\"):\n",
    "            print(\"Correct\")\n",
    "        elif (q[6] == \"D\") and (user_in == \"D\"):\n",
    "            print(\"Correct\")\n",
    "        elif (q[6] == \"E\") and (user_in == \"E\"):\n",
    "            print(\"Correct\")\n",
    "        else:\n",
    "            print(\"Incorrect\")\n",
    "        ask = input(\"Do you want this answer explained?\")\n",
    "        if ask == \"Yes\":\n",
    "            completion = client.chat.completions.create(\n",
    "            model=\"gpt-4o-mini\",\n",
    "            messages=[\n",
    "                {\"role\": \"system\", \"content\": \"You are a tutor who is very good at explaining history questions, you will be given a question, the answer choices, and the correct answer. Explain why this is the right answer.\"},\n",
    "                {\"role\": \"user\",\n",
    "                \"content\": \"Question: \" + q[0]+ \" A. \"+q[1]+\" B. \"+q[2]+\" C. \"+q[3]+\" D. \"+q[4]+\" E. \"+q[5]+ \" Correct Answer \"+q[6]}])\n",
    "\n",
    "            print(completion.choices[0].message.content)\n",
    "main()"
   ]
  },
  {
   "cell_type": "code",
   "execution_count": null,
   "id": "3322f080-8646-464a-9535-450c46325f5f",
   "metadata": {},
   "outputs": [],
   "source": []
  },
  {
   "cell_type": "code",
   "execution_count": null,
   "id": "ebea75d7-f81d-437b-939b-48341ae76d8b",
   "metadata": {},
   "outputs": [],
   "source": []
  },
  {
   "cell_type": "code",
   "execution_count": null,
   "id": "c370bddf-bcc0-4519-8bb5-840b77e9c4ad",
   "metadata": {},
   "outputs": [],
   "source": []
  },
  {
   "cell_type": "code",
   "execution_count": null,
   "id": "6d47320d-2398-4efb-a130-bfab190a3028",
   "metadata": {},
   "outputs": [],
   "source": []
  }
 ],
 "metadata": {
  "kernelspec": {
   "display_name": "Python 3 (ipykernel)",
   "language": "python",
   "name": "python3"
  },
  "language_info": {
   "codemirror_mode": {
    "name": "ipython",
    "version": 3
   },
   "file_extension": ".py",
   "mimetype": "text/x-python",
   "name": "python",
   "nbconvert_exporter": "python",
   "pygments_lexer": "ipython3",
   "version": "3.9.7"
  }
 },
 "nbformat": 4,
 "nbformat_minor": 5
}
