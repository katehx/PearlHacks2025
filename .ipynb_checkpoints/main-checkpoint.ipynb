{
 "cells": [
  {
   "cell_type": "code",
   "execution_count": 17,
   "id": "206b339f-9aad-4921-a31a-8fcdaee21217",
   "metadata": {},
   "outputs": [],
   "source": [
    "import pandas as pd\n",
    "import random\n",
    "from openai import OpenAI\n",
    "import os\n",
    "import getpass\n",
    "#from dotenv import load_dotenv\n",
    "\n",
    "df = pd.DataFrame(pd.read_csv('questions.csv'))"
   ]
  },
  {
   "cell_type": "code",
   "execution_count": 18,
   "id": "6437320f-97d9-4af0-9134-1194b330818e",
   "metadata": {},
   "outputs": [],
   "source": [
    "def get_question():\n",
    "    q = random.randint(0, 1379)\n",
    "    prompt = df.iloc[q][\"prompt\"]\n",
    "    A = df.iloc[q][\"A\"]\n",
    "    B = df.iloc[q][\"B\"]\n",
    "    C = df.iloc[q][\"C\"]\n",
    "    D = df.iloc[q][\"D\"]\n",
    "    E = df.iloc[q][\"E\"]\n",
    "    ra = df.iloc[q][\"answer\"]\n",
    "    return prompt, A, B, C, D, E, ra"
   ]
  },
  {
   "cell_type": "code",
   "execution_count": 19,
   "id": "d58d5d4a-88c6-4018-94ce-dfba69487f01",
   "metadata": {},
   "outputs": [
    {
     "name": "stdin",
     "output_type": "stream",
     "text": [
      "API Key: ····································································································································································\n"
     ]
    },
    {
     "name": "stdout",
     "output_type": "stream",
     "text": [
      "Stephen Douglas's Freeport Doctrine stated that\n",
      "A. slavery should be excluded from all territories west of the Mississippi River.\n",
      "B. the Union cannot survive half slave and half free.\n",
      "C. the Union must be preserved at all costs.\n",
      "D. liberty is more important than the Union.\n",
      "E. slavery can only exist where it has been supported by local law.\n"
     ]
    },
    {
     "name": "stdin",
     "output_type": "stream",
     "text": [
      "What is the answer? A\n"
     ]
    },
    {
     "name": "stdout",
     "output_type": "stream",
     "text": [
      "Incorrect\n"
     ]
    },
    {
     "name": "stdin",
     "output_type": "stream",
     "text": [
      "Do you want this answer explained? [Y/N] Y\n"
     ]
    },
    {
     "name": "stdout",
     "output_type": "stream",
     "text": [
      "The correct answer to the question regarding Stephen Douglas's Freeport Doctrine is E: \"slavery can only exist where it has been supported by local law.\" \n",
      "\n",
      "To understand why this is the correct answer, we need to look at the context of the Freeport Doctrine and Douglas's views on the issue of slavery in relation to popular sovereignty. The Freeport Doctrine emerged during the Lincoln-Douglas debates in 1858, particularly during the second debate in Freeport, Illinois. Douglas argued that while the U.S. Supreme Court's Dred Scott decision had stated that African Americans could not be citizens and that Congress had no power to prohibit slavery in the territories, the people living in those territories could effectively prevent the establishment of slavery through local legislation.\n",
      "\n",
      "In practical terms, Douglas was asserting that even if slavery was a lawful institution determined by the federal government, it would only thrive in areas where local laws and policies supported it. This position was a way to navigate the contentious issue of slavery, as it suggested that local populations had the authority to decide the legality of slavery in their territories, thus promoting the concept of popular sovereignty.\n",
      "\n",
      "In contrast, the other answer choices present different views or principles that do not accurately reflect the essence of the Freeport Doctrine. For instance:\n",
      "A speaks to a more restrictive scenario that does not align with Douglas's theory about local control.\n",
      "B and C present extreme partial views about the Union, focused on its survival rather than local governance.\n",
      "D introduces a philosophical debate that shifts focus away from the legal framework that Douglas was advocating.\n",
      "\n",
      "Therefore, E is the correct answer because it encapsulates Douglas's notion that the presence or absence of slavery was ultimately determined by local governments rather than overarching federal mandates, thereby reflecting his commitment to popular sovereignty.\n"
     ]
    },
    {
     "name": "stdin",
     "output_type": "stream",
     "text": [
      "Do you want another explaination? [Y/N] N\n",
      "Do you want another question? [Y/N] N\n"
     ]
    }
   ],
   "source": [
    "def main():\n",
    "    key = getpass.getpass(\"API Key:\")\n",
    "    client = OpenAI(api_key=key)\n",
    "    #load_dotenv()\n",
    "    #client = OpenAI(api_key=os.getenv('OPENAI_API_KEY')\n",
    "    check = 1\n",
    "    while check==1:\n",
    "        q = get_question()\n",
    "        print(q[0])\n",
    "        print(\"A. \" + q[1])\n",
    "        print(\"B. \" + q[2])\n",
    "        print(\"C. \" + q[3])\n",
    "        print(\"D. \" + q[4])\n",
    "        print(\"E. \" + q[5])\n",
    "        user_in = input(\"What is the answer?\")\n",
    "        if (q[6] == \"A\") and (user_in == \"A\"):\n",
    "            print(\"Correct\")\n",
    "        elif (q[6] == \"B\") and (user_in == \"B\"):\n",
    "            print(\"Correct\")\n",
    "        elif (q[6] == \"C\") and (user_in == \"C\"):\n",
    "            print(\"Correct\")\n",
    "        elif (q[6] == \"D\") and (user_in == \"D\"):\n",
    "            print(\"Correct\")\n",
    "        elif (q[6] == \"E\") and (user_in == \"E\"):\n",
    "            print(\"Correct\")\n",
    "        else:\n",
    "            print(\"Incorrect\")\n",
    "        flag = 1\n",
    "        ask = input(\"Do you want this answer explained? [Y/N]\")\n",
    "        while flag == 1:\n",
    "            if ask == \"Y\":\n",
    "                completion = client.chat.completions.create(\n",
    "                model=\"gpt-4o-mini\",\n",
    "                messages=[\n",
    "                    {\"role\": \"system\", \"content\": \"You are a tutor who is very good at explaining history questions, you will be given a question, the answer choices, and the correct answer. Explain why this is the right answer.\"},\n",
    "                    {\"role\": \"user\",\n",
    "                    \"content\": \"Question: \" + q[0]+ \" A. \"+q[1]+\" B. \"+q[2]+\" C. \"+q[3]+\" D. \"+q[4]+\" E. \"+q[5]+ \" Correct Answer \"+q[6]}])\n",
    "\n",
    "                out = completion.choices[0].message.content\n",
    "                print(out)\n",
    "                ask = input(\"Do you want another explaination? [Y/N]\")\n",
    "            else:\n",
    "                flag = 0\n",
    "        end = input(\"Do you want another question? [Y/N]\")\n",
    "        if end == \"N\":\n",
    "            check = 0\n",
    "main()\n",
    "    "
   ]
  },
  {
   "cell_type": "code",
   "execution_count": null,
   "id": "ebea75d7-f81d-437b-939b-48341ae76d8b",
   "metadata": {},
   "outputs": [],
   "source": []
  },
  {
   "cell_type": "code",
   "execution_count": null,
   "id": "c370bddf-bcc0-4519-8bb5-840b77e9c4ad",
   "metadata": {},
   "outputs": [],
   "source": []
  },
  {
   "cell_type": "code",
   "execution_count": null,
   "id": "6d47320d-2398-4efb-a130-bfab190a3028",
   "metadata": {},
   "outputs": [],
   "source": []
  }
 ],
 "metadata": {
  "kernelspec": {
   "display_name": "Python 3 (ipykernel)",
   "language": "python",
   "name": "python3"
  },
  "language_info": {
   "codemirror_mode": {
    "name": "ipython",
    "version": 3
   },
   "file_extension": ".py",
   "mimetype": "text/x-python",
   "name": "python",
   "nbconvert_exporter": "python",
   "pygments_lexer": "ipython3",
   "version": "3.9.7"
  }
 },
 "nbformat": 4,
 "nbformat_minor": 5
}
